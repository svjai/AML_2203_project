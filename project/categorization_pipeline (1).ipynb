{
  "nbformat": 4,
  "nbformat_minor": 0,
  "metadata": {
    "colab": {
      "provenance": []
    },
    "kernelspec": {
      "name": "python3",
      "display_name": "Python 3"
    },
    "language_info": {
      "name": "python"
    }
  },
  "cells": [
    {
      "cell_type": "markdown",
      "source": [
        "Model Selection - Multinomial Naive Bayes:\n",
        "\n",
        "Naive Bayes is a good baseline model for text classification tasks due to its simplicity and effectiveness with high-dimensional data, like text.\n",
        "It can work well even with small amounts of data and can be quite robust to the noise.\n",
        "While it doesn't inherently handle class imbalance, when combined with a proper sampling strategy, it can still perform well.\n",
        "Sampling - SMOTE (Synthetic Minority Over-sampling Technique):\n",
        "\n",
        "SMOTE is an oversampling technique that creates synthetic samples of the minority class(es) by interpolating between existing samples.\n",
        "This method is used to create a more balanced class distribution without losing information, which is crucial when you have an imbalanced dataset.\n",
        "In the pipeline, SMOTE is applied only during the training phase, ensuring that the model learns from a balanced distribution of classes.\n",
        "Pipeline Usage:\n",
        "\n",
        "The use of a pipeline ensures that vectorization and SMOTE are applied correctly during cross-validation, preventing data leakage and ensuring that the resampling only happens on the data being used to train the model during each fold of cross-validation.\n",
        "Stratified Split:\n",
        "\n",
        "The train-test split is stratified, which means it will maintain the original proportion of the class distribution in both the training and test datasets.\n",
        "This stratification ensures that even though the classes are imbalanced, they will be represented proportionally in both sets, which is especially important for evaluating the model performance accurately."
      ],
      "metadata": {
        "id": "FRM_nMSCYF4k"
      }
    },
    {
      "cell_type": "code",
      "execution_count": 11,
      "metadata": {
        "id": "-tUGxRqCXWuV"
      },
      "outputs": [],
      "source": [
        "import pandas as pd\n",
        "from sklearn.feature_extraction.text import TfidfVectorizer\n",
        "from sklearn.model_selection import train_test_split\n",
        "from imblearn.over_sampling import SMOTE\n",
        "from imblearn.pipeline import make_pipeline\n",
        "from sklearn.naive_bayes import MultinomialNB\n",
        "from sklearn.metrics import classification_report, accuracy_score\n",
        "from sklearn.preprocessing import LabelEncoder\n",
        "\n",
        "from sklearn.feature_extraction.text import TfidfVectorizer\n",
        "from imblearn.pipeline import make_pipeline\n",
        "from sklearn.naive_bayes import MultinomialNB\n",
        "from sklearn.metrics import classification_report\n",
        "from sklearn.model_selection import train_test_split\n",
        "from sklearn.preprocessing import LabelEncoder\n",
        "from imblearn.over_sampling import SMOTE\n",
        "from nltk.stem import WordNetLemmatizer\n",
        "from nltk.corpus import stopwords\n",
        "from nltk.tokenize import RegexpTokenizer\n",
        "import nltk"
      ]
    },
    {
      "cell_type": "code",
      "source": [
        "df = pd.read_csv('/content/unbalanced_description&category.csv')"
      ],
      "metadata": {
        "id": "Ff73WQBFYOoz"
      },
      "execution_count": 3,
      "outputs": []
    },
    {
      "cell_type": "code",
      "source": [
        "df.head()"
      ],
      "metadata": {
        "colab": {
          "base_uri": "https://localhost:8080/",
          "height": 206
        },
        "id": "WE8Pb_lbgpQm",
        "outputId": "53b3815c-d794-4324-e2b3-926bc2f79a3e"
      },
      "execution_count": 8,
      "outputs": [
        {
          "output_type": "execute_result",
          "data": {
            "text/plain": [
              "                                         description category_verification  \\\n",
              "0  Today, software engineers need to know not onl...                  arch   \n",
              "1  As the digital economy changes the rules of th...                  arch   \n",
              "2  Software architecture metrics are key to the m...                  arch   \n",
              "3  ONE-VOLUME INTRODUCTION TO QUANTUM COMPUTING C...                  arch   \n",
              "4  What will you learn from this book? If you're ...                  arch   \n",
              "\n",
              "   category_encoded  \n",
              "0                 4  \n",
              "1                 4  \n",
              "2                 4  \n",
              "3                 4  \n",
              "4                 4  "
            ],
            "text/html": [
              "\n",
              "  <div id=\"df-82a818a4-a685-49b4-941d-8f8b7cb17008\" class=\"colab-df-container\">\n",
              "    <div>\n",
              "<style scoped>\n",
              "    .dataframe tbody tr th:only-of-type {\n",
              "        vertical-align: middle;\n",
              "    }\n",
              "\n",
              "    .dataframe tbody tr th {\n",
              "        vertical-align: top;\n",
              "    }\n",
              "\n",
              "    .dataframe thead th {\n",
              "        text-align: right;\n",
              "    }\n",
              "</style>\n",
              "<table border=\"1\" class=\"dataframe\">\n",
              "  <thead>\n",
              "    <tr style=\"text-align: right;\">\n",
              "      <th></th>\n",
              "      <th>description</th>\n",
              "      <th>category_verification</th>\n",
              "      <th>category_encoded</th>\n",
              "    </tr>\n",
              "  </thead>\n",
              "  <tbody>\n",
              "    <tr>\n",
              "      <th>0</th>\n",
              "      <td>Today, software engineers need to know not onl...</td>\n",
              "      <td>arch</td>\n",
              "      <td>4</td>\n",
              "    </tr>\n",
              "    <tr>\n",
              "      <th>1</th>\n",
              "      <td>As the digital economy changes the rules of th...</td>\n",
              "      <td>arch</td>\n",
              "      <td>4</td>\n",
              "    </tr>\n",
              "    <tr>\n",
              "      <th>2</th>\n",
              "      <td>Software architecture metrics are key to the m...</td>\n",
              "      <td>arch</td>\n",
              "      <td>4</td>\n",
              "    </tr>\n",
              "    <tr>\n",
              "      <th>3</th>\n",
              "      <td>ONE-VOLUME INTRODUCTION TO QUANTUM COMPUTING C...</td>\n",
              "      <td>arch</td>\n",
              "      <td>4</td>\n",
              "    </tr>\n",
              "    <tr>\n",
              "      <th>4</th>\n",
              "      <td>What will you learn from this book? If you're ...</td>\n",
              "      <td>arch</td>\n",
              "      <td>4</td>\n",
              "    </tr>\n",
              "  </tbody>\n",
              "</table>\n",
              "</div>\n",
              "    <div class=\"colab-df-buttons\">\n",
              "\n",
              "  <div class=\"colab-df-container\">\n",
              "    <button class=\"colab-df-convert\" onclick=\"convertToInteractive('df-82a818a4-a685-49b4-941d-8f8b7cb17008')\"\n",
              "            title=\"Convert this dataframe to an interactive table.\"\n",
              "            style=\"display:none;\">\n",
              "\n",
              "  <svg xmlns=\"http://www.w3.org/2000/svg\" height=\"24px\" viewBox=\"0 -960 960 960\">\n",
              "    <path d=\"M120-120v-720h720v720H120Zm60-500h600v-160H180v160Zm220 220h160v-160H400v160Zm0 220h160v-160H400v160ZM180-400h160v-160H180v160Zm440 0h160v-160H620v160ZM180-180h160v-160H180v160Zm440 0h160v-160H620v160Z\"/>\n",
              "  </svg>\n",
              "    </button>\n",
              "\n",
              "  <style>\n",
              "    .colab-df-container {\n",
              "      display:flex;\n",
              "      gap: 12px;\n",
              "    }\n",
              "\n",
              "    .colab-df-convert {\n",
              "      background-color: #E8F0FE;\n",
              "      border: none;\n",
              "      border-radius: 50%;\n",
              "      cursor: pointer;\n",
              "      display: none;\n",
              "      fill: #1967D2;\n",
              "      height: 32px;\n",
              "      padding: 0 0 0 0;\n",
              "      width: 32px;\n",
              "    }\n",
              "\n",
              "    .colab-df-convert:hover {\n",
              "      background-color: #E2EBFA;\n",
              "      box-shadow: 0px 1px 2px rgba(60, 64, 67, 0.3), 0px 1px 3px 1px rgba(60, 64, 67, 0.15);\n",
              "      fill: #174EA6;\n",
              "    }\n",
              "\n",
              "    .colab-df-buttons div {\n",
              "      margin-bottom: 4px;\n",
              "    }\n",
              "\n",
              "    [theme=dark] .colab-df-convert {\n",
              "      background-color: #3B4455;\n",
              "      fill: #D2E3FC;\n",
              "    }\n",
              "\n",
              "    [theme=dark] .colab-df-convert:hover {\n",
              "      background-color: #434B5C;\n",
              "      box-shadow: 0px 1px 3px 1px rgba(0, 0, 0, 0.15);\n",
              "      filter: drop-shadow(0px 1px 2px rgba(0, 0, 0, 0.3));\n",
              "      fill: #FFFFFF;\n",
              "    }\n",
              "  </style>\n",
              "\n",
              "    <script>\n",
              "      const buttonEl =\n",
              "        document.querySelector('#df-82a818a4-a685-49b4-941d-8f8b7cb17008 button.colab-df-convert');\n",
              "      buttonEl.style.display =\n",
              "        google.colab.kernel.accessAllowed ? 'block' : 'none';\n",
              "\n",
              "      async function convertToInteractive(key) {\n",
              "        const element = document.querySelector('#df-82a818a4-a685-49b4-941d-8f8b7cb17008');\n",
              "        const dataTable =\n",
              "          await google.colab.kernel.invokeFunction('convertToInteractive',\n",
              "                                                    [key], {});\n",
              "        if (!dataTable) return;\n",
              "\n",
              "        const docLinkHtml = 'Like what you see? Visit the ' +\n",
              "          '<a target=\"_blank\" href=https://colab.research.google.com/notebooks/data_table.ipynb>data table notebook</a>'\n",
              "          + ' to learn more about interactive tables.';\n",
              "        element.innerHTML = '';\n",
              "        dataTable['output_type'] = 'display_data';\n",
              "        await google.colab.output.renderOutput(dataTable, element);\n",
              "        const docLink = document.createElement('div');\n",
              "        docLink.innerHTML = docLinkHtml;\n",
              "        element.appendChild(docLink);\n",
              "      }\n",
              "    </script>\n",
              "  </div>\n",
              "\n",
              "\n",
              "<div id=\"df-1fc8be31-bf15-42e6-ad4c-556bdf9c1f74\">\n",
              "  <button class=\"colab-df-quickchart\" onclick=\"quickchart('df-1fc8be31-bf15-42e6-ad4c-556bdf9c1f74')\"\n",
              "            title=\"Suggest charts\"\n",
              "            style=\"display:none;\">\n",
              "\n",
              "<svg xmlns=\"http://www.w3.org/2000/svg\" height=\"24px\"viewBox=\"0 0 24 24\"\n",
              "     width=\"24px\">\n",
              "    <g>\n",
              "        <path d=\"M19 3H5c-1.1 0-2 .9-2 2v14c0 1.1.9 2 2 2h14c1.1 0 2-.9 2-2V5c0-1.1-.9-2-2-2zM9 17H7v-7h2v7zm4 0h-2V7h2v10zm4 0h-2v-4h2v4z\"/>\n",
              "    </g>\n",
              "</svg>\n",
              "  </button>\n",
              "\n",
              "<style>\n",
              "  .colab-df-quickchart {\n",
              "      --bg-color: #E8F0FE;\n",
              "      --fill-color: #1967D2;\n",
              "      --hover-bg-color: #E2EBFA;\n",
              "      --hover-fill-color: #174EA6;\n",
              "      --disabled-fill-color: #AAA;\n",
              "      --disabled-bg-color: #DDD;\n",
              "  }\n",
              "\n",
              "  [theme=dark] .colab-df-quickchart {\n",
              "      --bg-color: #3B4455;\n",
              "      --fill-color: #D2E3FC;\n",
              "      --hover-bg-color: #434B5C;\n",
              "      --hover-fill-color: #FFFFFF;\n",
              "      --disabled-bg-color: #3B4455;\n",
              "      --disabled-fill-color: #666;\n",
              "  }\n",
              "\n",
              "  .colab-df-quickchart {\n",
              "    background-color: var(--bg-color);\n",
              "    border: none;\n",
              "    border-radius: 50%;\n",
              "    cursor: pointer;\n",
              "    display: none;\n",
              "    fill: var(--fill-color);\n",
              "    height: 32px;\n",
              "    padding: 0;\n",
              "    width: 32px;\n",
              "  }\n",
              "\n",
              "  .colab-df-quickchart:hover {\n",
              "    background-color: var(--hover-bg-color);\n",
              "    box-shadow: 0 1px 2px rgba(60, 64, 67, 0.3), 0 1px 3px 1px rgba(60, 64, 67, 0.15);\n",
              "    fill: var(--button-hover-fill-color);\n",
              "  }\n",
              "\n",
              "  .colab-df-quickchart-complete:disabled,\n",
              "  .colab-df-quickchart-complete:disabled:hover {\n",
              "    background-color: var(--disabled-bg-color);\n",
              "    fill: var(--disabled-fill-color);\n",
              "    box-shadow: none;\n",
              "  }\n",
              "\n",
              "  .colab-df-spinner {\n",
              "    border: 2px solid var(--fill-color);\n",
              "    border-color: transparent;\n",
              "    border-bottom-color: var(--fill-color);\n",
              "    animation:\n",
              "      spin 1s steps(1) infinite;\n",
              "  }\n",
              "\n",
              "  @keyframes spin {\n",
              "    0% {\n",
              "      border-color: transparent;\n",
              "      border-bottom-color: var(--fill-color);\n",
              "      border-left-color: var(--fill-color);\n",
              "    }\n",
              "    20% {\n",
              "      border-color: transparent;\n",
              "      border-left-color: var(--fill-color);\n",
              "      border-top-color: var(--fill-color);\n",
              "    }\n",
              "    30% {\n",
              "      border-color: transparent;\n",
              "      border-left-color: var(--fill-color);\n",
              "      border-top-color: var(--fill-color);\n",
              "      border-right-color: var(--fill-color);\n",
              "    }\n",
              "    40% {\n",
              "      border-color: transparent;\n",
              "      border-right-color: var(--fill-color);\n",
              "      border-top-color: var(--fill-color);\n",
              "    }\n",
              "    60% {\n",
              "      border-color: transparent;\n",
              "      border-right-color: var(--fill-color);\n",
              "    }\n",
              "    80% {\n",
              "      border-color: transparent;\n",
              "      border-right-color: var(--fill-color);\n",
              "      border-bottom-color: var(--fill-color);\n",
              "    }\n",
              "    90% {\n",
              "      border-color: transparent;\n",
              "      border-bottom-color: var(--fill-color);\n",
              "    }\n",
              "  }\n",
              "</style>\n",
              "\n",
              "  <script>\n",
              "    async function quickchart(key) {\n",
              "      const quickchartButtonEl =\n",
              "        document.querySelector('#' + key + ' button');\n",
              "      quickchartButtonEl.disabled = true;  // To prevent multiple clicks.\n",
              "      quickchartButtonEl.classList.add('colab-df-spinner');\n",
              "      try {\n",
              "        const charts = await google.colab.kernel.invokeFunction(\n",
              "            'suggestCharts', [key], {});\n",
              "      } catch (error) {\n",
              "        console.error('Error during call to suggestCharts:', error);\n",
              "      }\n",
              "      quickchartButtonEl.classList.remove('colab-df-spinner');\n",
              "      quickchartButtonEl.classList.add('colab-df-quickchart-complete');\n",
              "    }\n",
              "    (() => {\n",
              "      let quickchartButtonEl =\n",
              "        document.querySelector('#df-1fc8be31-bf15-42e6-ad4c-556bdf9c1f74 button');\n",
              "      quickchartButtonEl.style.display =\n",
              "        google.colab.kernel.accessAllowed ? 'block' : 'none';\n",
              "    })();\n",
              "  </script>\n",
              "</div>\n",
              "\n",
              "    </div>\n",
              "  </div>\n"
            ],
            "application/vnd.google.colaboratory.intrinsic+json": {
              "type": "dataframe",
              "variable_name": "df",
              "summary": "{\n  \"name\": \"df\",\n  \"rows\": 34231,\n  \"fields\": [\n    {\n      \"column\": \"description\",\n      \"properties\": {\n        \"dtype\": \"string\",\n        \"num_unique_values\": 32248,\n        \"samples\": [\n          \"This is a comprehensive and detailed account of the economic history of Puerto Rico from the period of Spanish colonial domination to the present. Interweaving findings of the \\\"new\\\" Puerto Rican historiography with those of earlier historical studies, and using the most recent theoretical concepts to interpret them, James Dietz examines the...\",\n          \"Maggie and John Anderson were successful African American professionals raising two daughters in a tony suburb of Chicago. But they felt uneasy over their good fortune. Most African Americans live in economically starved neighborhoods. Black wealth is about one tenth of white wealth, and black businesses lag behind businesses of all other racial...\",\n          \"&#147;A New Mind&#148;, offers powerful, yet simple answers from the Bible for all of your questions. It will help you find and enjoy your ultimate Inner Power! Be the creative optimist you were created to be! ALL KNOWLEDGE needed to enjoy a happy, prosperous, healthy and wonderful world of peaceful abundance, has been carefully set forth in...\"\n        ],\n        \"semantic_type\": \"\",\n        \"description\": \"\"\n      }\n    },\n    {\n      \"column\": \"category_verification\",\n      \"properties\": {\n        \"dtype\": \"category\",\n        \"num_unique_values\": 11,\n        \"samples\": [\n          \"programming\",\n          \"arch\",\n          \"business\"\n        ],\n        \"semantic_type\": \"\",\n        \"description\": \"\"\n      }\n    },\n    {\n      \"column\": \"category_encoded\",\n      \"properties\": {\n        \"dtype\": \"number\",\n        \"std\": 3,\n        \"min\": 0,\n        \"max\": 10,\n        \"num_unique_values\": 11,\n        \"samples\": [\n          10,\n          4,\n          5\n        ],\n        \"semantic_type\": \"\",\n        \"description\": \"\"\n      }\n    }\n  ]\n}"
            }
          },
          "metadata": {},
          "execution_count": 8
        }
      ]
    },
    {
      "cell_type": "code",
      "source": [
        "# Download NLTK resources (if not already installed)\n",
        "nltk.download('stopwords')\n",
        "nltk.download('wordnet')\n",
        "nltk.download('omw-1.4')\n",
        "\n",
        "# Initialize stop words and lemmatizer\n",
        "stop_words = set(stopwords.words('english'))\n",
        "lemmatizer = WordNetLemmatizer()\n",
        "\n",
        "# Define a function for preprocessing the text\n",
        "def lemmatize_text(text):\n",
        "    # Tokenize the text and remove special characters\n",
        "    tokenizer = RegexpTokenizer(r'\\w+')\n",
        "    tokens = tokenizer.tokenize(text.lower())  # Lowercasing the text\n",
        "    # Lemmatize tokens and remove stop words\n",
        "    lemmatized_output = ' '.join([lemmatizer.lemmatize(w) for w in tokens if w not in stop_words])\n",
        "    return lemmatized_output\n",
        "\n",
        "# Creating a train pipeline\n",
        "def train_pipeline(df, description_column, category_column):\n",
        "    # Encoding target label\n",
        "    label_encoder = LabelEncoder()\n",
        "    df['category_encoded'] = label_encoder.fit_transform(df[category_column])\n",
        "\n",
        "    # Splitting the dataset into the Training set and Test set\n",
        "    X_train, X_test, y_train, y_test = train_test_split(\n",
        "        df[description_column], df['category_encoded'],\n",
        "        test_size=0.2, random_state=7,\n",
        "        stratify=df['category_encoded']\n",
        "    )\n",
        "\n",
        "    # Convert the set of stop words to a list\n",
        "    stop_words_list = list(stop_words)\n",
        "\n",
        "    # Creating a pipeline with text vectorization, SMOTE resampling, and Naive Bayes classifier\n",
        "    pipeline = make_pipeline(\n",
        "        TfidfVectorizer(tokenizer=lemmatize_text, stop_words=stop_words_list),\n",
        "        SMOTE(random_state=7),\n",
        "        MultinomialNB()\n",
        "    )\n",
        "\n",
        "    # Training the pipeline\n",
        "    pipeline.fit(X_train, y_train)\n",
        "\n",
        "    # Predicting the Test set results\n",
        "    y_pred = pipeline.predict(X_test)\n",
        "\n",
        "    # Generating the classification report\n",
        "    report = classification_report(y_test, y_pred, target_names=label_encoder.classes_)\n",
        "\n",
        "    return pipeline, label_encoder, X_test, y_test, report, y_pred"
      ],
      "metadata": {
        "colab": {
          "base_uri": "https://localhost:8080/"
        },
        "id": "8oMvxLlFaM_X",
        "outputId": "88c60a0c-6208-4f36-bf6a-923f486a8664"
      },
      "execution_count": 20,
      "outputs": [
        {
          "output_type": "stream",
          "name": "stderr",
          "text": [
            "[nltk_data] Downloading package stopwords to /root/nltk_data...\n",
            "[nltk_data]   Package stopwords is already up-to-date!\n",
            "[nltk_data] Downloading package wordnet to /root/nltk_data...\n",
            "[nltk_data]   Package wordnet is already up-to-date!\n",
            "[nltk_data] Downloading package omw-1.4 to /root/nltk_data...\n",
            "[nltk_data]   Package omw-1.4 is already up-to-date!\n"
          ]
        }
      ]
    },
    {
      "cell_type": "code",
      "source": [
        "def predict_category(pipeline, label_encoder, description):\n",
        "  prediction_encoded = pipeline.predict([description])\n",
        "  prediction = label_encoder.inverse_transform(prediction_encoded)\n",
        "  return prediction[0]"
      ],
      "metadata": {
        "id": "gPIg3eIvfrNb"
      },
      "execution_count": 7,
      "outputs": []
    },
    {
      "cell_type": "code",
      "source": [
        "# Train the pipeline\n",
        "pipeline, label_encoder, X_test, y_test, report, y_pred = train_pipeline(df, 'description', 'category_verification')"
      ],
      "metadata": {
        "colab": {
          "base_uri": "https://localhost:8080/"
        },
        "id": "IDkzw82xgTSZ",
        "outputId": "9ab82796-ae0a-4c7c-c489-2304dc271e07"
      },
      "execution_count": 22,
      "outputs": [
        {
          "output_type": "stream",
          "name": "stderr",
          "text": [
            "/usr/local/lib/python3.10/dist-packages/sklearn/feature_extraction/text.py:528: UserWarning: The parameter 'token_pattern' will not be used since 'tokenizer' is not None'\n",
            "  warnings.warn(\n"
          ]
        }
      ]
    },
    {
      "cell_type": "code",
      "source": [
        "print(report)"
      ],
      "metadata": {
        "colab": {
          "base_uri": "https://localhost:8080/"
        },
        "id": "z2ccc4c3gtE6",
        "outputId": "3803de52-2a3f-46bd-d20e-c250a53e66ce"
      },
      "execution_count": 23,
      "outputs": [
        {
          "output_type": "stream",
          "name": "stdout",
          "text": [
            "              precision    recall  f1-score   support\n",
            "\n",
            "          AI       0.35      0.05      0.09      1240\n",
            "          DB       0.19      0.18      0.19       294\n",
            "Program_lang       0.35      0.29      0.32       549\n",
            "       UI_UX       0.10      0.44      0.16       257\n",
            "        arch       0.02      0.08      0.03        52\n",
            "    business       0.27      0.68      0.38      1295\n",
            "    comp_eng       0.13      0.21      0.16       200\n",
            "info_mindful       0.80      0.08      0.15      1404\n",
            "  networking       0.18      0.08      0.11       593\n",
            "          os       0.12      0.27      0.16       149\n",
            " programming       0.24      0.04      0.07       814\n",
            "\n",
            "    accuracy                           0.23      6847\n",
            "   macro avg       0.25      0.22      0.17      6847\n",
            "weighted avg       0.37      0.23      0.19      6847\n",
            "\n"
          ]
        }
      ]
    },
    {
      "cell_type": "code",
      "source": [
        "accuracy = accuracy_score(y_test, y_pred)\n",
        "print(f'Accuracy: {accuracy:.2f}')"
      ],
      "metadata": {
        "colab": {
          "base_uri": "https://localhost:8080/"
        },
        "id": "jCL05nJMlSwe",
        "outputId": "6ac4538f-c8b9-4c05-c913-efa0c6131a00"
      },
      "execution_count": 24,
      "outputs": [
        {
          "output_type": "stream",
          "name": "stdout",
          "text": [
            "Accuracy: 0.23\n"
          ]
        }
      ]
    },
    {
      "cell_type": "code",
      "source": [],
      "metadata": {
        "id": "owEAne3kl7yG"
      },
      "execution_count": null,
      "outputs": []
    }
  ]
}