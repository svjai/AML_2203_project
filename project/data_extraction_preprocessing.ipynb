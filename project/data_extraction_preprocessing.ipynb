{
 "cells": [
  {
   "cell_type": "code",
   "execution_count": 1,
   "id": "2d1af733",
   "metadata": {},
   "outputs": [],
   "source": [
    "import pandas as pd\n",
    "import re"
   ]
  },
  {
   "cell_type": "code",
   "execution_count": 3,
   "id": "d05ec795",
   "metadata": {},
   "outputs": [],
   "source": [
    "def clean_text(text):\n",
    "    text = re.sub(r'\\W+', ' ', str(text))\n",
    "    text = text.lower()\n",
    "    return text"
   ]
  },
  {
   "cell_type": "code",
   "execution_count": 10,
   "id": "2a39f070",
   "metadata": {},
   "outputs": [],
   "source": [
    "file_path = 'scrapped_data_version_1_comp_business_mind.csv'\n",
    "df = pd.read_csv(file_path)"
   ]
  },
  {
   "cell_type": "code",
   "execution_count": 11,
   "id": "9585f346",
   "metadata": {},
   "outputs": [
    {
     "data": {
      "text/plain": [
       "Index(['Book_title', 'book_id', 'book_price', 'author_name(s)',\n",
       "       'publisher_name', 'publication_year', 'sub_title_book', 'book_edition',\n",
       "       'description', 'book_availablity', 'date_of_sale', 'year_month',\n",
       "       'author_count', 'common_width', 'common_heighy',\n",
       "       'category_verification'],\n",
       "      dtype='object')"
      ]
     },
     "execution_count": 11,
     "metadata": {},
     "output_type": "execute_result"
    }
   ],
   "source": [
    "df.columns"
   ]
  },
  {
   "cell_type": "code",
   "execution_count": 12,
   "id": "cd86052b",
   "metadata": {},
   "outputs": [],
   "source": [
    "relevant_columns = ['Book_title', 'description', 'author_name(s)', 'publication_year', 'publisher_name', 'sub_title_book', 'category_verification']\n",
    "new_df = df[relevant_columns]"
   ]
  },
  {
   "cell_type": "code",
   "execution_count": 13,
   "id": "648c332f",
   "metadata": {
    "collapsed": true
   },
   "outputs": [
    {
     "name": "stderr",
     "output_type": "stream",
     "text": [
      "/var/folders/5p/j3w3hx_s0rl_lc0q8wgy8jbr0000gn/T/ipykernel_13666/3789132325.py:2: SettingWithCopyWarning: \n",
      "A value is trying to be set on a copy of a slice from a DataFrame\n",
      "\n",
      "See the caveats in the documentation: https://pandas.pydata.org/pandas-docs/stable/user_guide/indexing.html#returning-a-view-versus-a-copy\n",
      "  new_df.dropna(inplace=True)\n"
     ]
    }
   ],
   "source": [
    "# remove rows with missing values\n",
    "new_df.dropna(inplace=True)"
   ]
  },
  {
   "cell_type": "code",
   "execution_count": 14,
   "id": "d744751a",
   "metadata": {
    "collapsed": true
   },
   "outputs": [
    {
     "name": "stderr",
     "output_type": "stream",
     "text": [
      "/var/folders/5p/j3w3hx_s0rl_lc0q8wgy8jbr0000gn/T/ipykernel_13666/3522658222.py:3: SettingWithCopyWarning: \n",
      "A value is trying to be set on a copy of a slice from a DataFrame.\n",
      "Try using .loc[row_indexer,col_indexer] = value instead\n",
      "\n",
      "See the caveats in the documentation: https://pandas.pydata.org/pandas-docs/stable/user_guide/indexing.html#returning-a-view-versus-a-copy\n",
      "  new_df[column] = new_df[column].apply(clean_text)\n",
      "/var/folders/5p/j3w3hx_s0rl_lc0q8wgy8jbr0000gn/T/ipykernel_13666/3522658222.py:3: SettingWithCopyWarning: \n",
      "A value is trying to be set on a copy of a slice from a DataFrame.\n",
      "Try using .loc[row_indexer,col_indexer] = value instead\n",
      "\n",
      "See the caveats in the documentation: https://pandas.pydata.org/pandas-docs/stable/user_guide/indexing.html#returning-a-view-versus-a-copy\n",
      "  new_df[column] = new_df[column].apply(clean_text)\n",
      "/var/folders/5p/j3w3hx_s0rl_lc0q8wgy8jbr0000gn/T/ipykernel_13666/3522658222.py:3: SettingWithCopyWarning: \n",
      "A value is trying to be set on a copy of a slice from a DataFrame.\n",
      "Try using .loc[row_indexer,col_indexer] = value instead\n",
      "\n",
      "See the caveats in the documentation: https://pandas.pydata.org/pandas-docs/stable/user_guide/indexing.html#returning-a-view-versus-a-copy\n",
      "  new_df[column] = new_df[column].apply(clean_text)\n",
      "/var/folders/5p/j3w3hx_s0rl_lc0q8wgy8jbr0000gn/T/ipykernel_13666/3522658222.py:3: SettingWithCopyWarning: \n",
      "A value is trying to be set on a copy of a slice from a DataFrame.\n",
      "Try using .loc[row_indexer,col_indexer] = value instead\n",
      "\n",
      "See the caveats in the documentation: https://pandas.pydata.org/pandas-docs/stable/user_guide/indexing.html#returning-a-view-versus-a-copy\n",
      "  new_df[column] = new_df[column].apply(clean_text)\n",
      "/var/folders/5p/j3w3hx_s0rl_lc0q8wgy8jbr0000gn/T/ipykernel_13666/3522658222.py:3: SettingWithCopyWarning: \n",
      "A value is trying to be set on a copy of a slice from a DataFrame.\n",
      "Try using .loc[row_indexer,col_indexer] = value instead\n",
      "\n",
      "See the caveats in the documentation: https://pandas.pydata.org/pandas-docs/stable/user_guide/indexing.html#returning-a-view-versus-a-copy\n",
      "  new_df[column] = new_df[column].apply(clean_text)\n",
      "/var/folders/5p/j3w3hx_s0rl_lc0q8wgy8jbr0000gn/T/ipykernel_13666/3522658222.py:3: SettingWithCopyWarning: \n",
      "A value is trying to be set on a copy of a slice from a DataFrame.\n",
      "Try using .loc[row_indexer,col_indexer] = value instead\n",
      "\n",
      "See the caveats in the documentation: https://pandas.pydata.org/pandas-docs/stable/user_guide/indexing.html#returning-a-view-versus-a-copy\n",
      "  new_df[column] = new_df[column].apply(clean_text)\n",
      "/var/folders/5p/j3w3hx_s0rl_lc0q8wgy8jbr0000gn/T/ipykernel_13666/3522658222.py:3: SettingWithCopyWarning: \n",
      "A value is trying to be set on a copy of a slice from a DataFrame.\n",
      "Try using .loc[row_indexer,col_indexer] = value instead\n",
      "\n",
      "See the caveats in the documentation: https://pandas.pydata.org/pandas-docs/stable/user_guide/indexing.html#returning-a-view-versus-a-copy\n",
      "  new_df[column] = new_df[column].apply(clean_text)\n"
     ]
    }
   ],
   "source": [
    "text_columns = ['Book_title', 'description', 'author_name(s)', 'publication_year', 'publisher_name', 'sub_title_book', 'category_verification']\n",
    "for column in text_columns:\n",
    "    new_df[column] = new_df[column].apply(clean_text)"
   ]
  },
  {
   "cell_type": "code",
   "execution_count": 15,
   "id": "52c7ed29",
   "metadata": {},
   "outputs": [
    {
     "data": {
      "text/html": [
       "<div>\n",
       "<style scoped>\n",
       "    .dataframe tbody tr th:only-of-type {\n",
       "        vertical-align: middle;\n",
       "    }\n",
       "\n",
       "    .dataframe tbody tr th {\n",
       "        vertical-align: top;\n",
       "    }\n",
       "\n",
       "    .dataframe thead th {\n",
       "        text-align: right;\n",
       "    }\n",
       "</style>\n",
       "<table border=\"1\" class=\"dataframe\">\n",
       "  <thead>\n",
       "    <tr style=\"text-align: right;\">\n",
       "      <th></th>\n",
       "      <th>Book_title</th>\n",
       "      <th>description</th>\n",
       "      <th>author_name(s)</th>\n",
       "      <th>publication_year</th>\n",
       "      <th>publisher_name</th>\n",
       "      <th>sub_title_book</th>\n",
       "      <th>category_verification</th>\n",
       "    </tr>\n",
       "  </thead>\n",
       "  <tbody>\n",
       "    <tr>\n",
       "      <th>0</th>\n",
       "      <td>software engineering at google</td>\n",
       "      <td>today software engineers need to know not only...</td>\n",
       "      <td>titus winters</td>\n",
       "      <td>2020</td>\n",
       "      <td>o reilly media</td>\n",
       "      <td>lessons learned from programming over time</td>\n",
       "      <td>arch</td>\n",
       "    </tr>\n",
       "    <tr>\n",
       "      <th>1</th>\n",
       "      <td>the software architect elevator</td>\n",
       "      <td>as the digital economy changes the rules of th...</td>\n",
       "      <td>gregor hohpe</td>\n",
       "      <td>2020</td>\n",
       "      <td>o reilly media</td>\n",
       "      <td>redefining the architect s role in the digital...</td>\n",
       "      <td>arch</td>\n",
       "    </tr>\n",
       "    <tr>\n",
       "      <th>7</th>\n",
       "      <td>programming kubernetes</td>\n",
       "      <td>if you re looking to develop native applicatio...</td>\n",
       "      <td>michael hausenblas</td>\n",
       "      <td>2019</td>\n",
       "      <td>o reilly media</td>\n",
       "      <td>developing cloud native applications</td>\n",
       "      <td>arch</td>\n",
       "    </tr>\n",
       "    <tr>\n",
       "      <th>11</th>\n",
       "      <td>computer organization and design risc v edition</td>\n",
       "      <td>computer organization and design risc v editio...</td>\n",
       "      <td>david a patterson</td>\n",
       "      <td>2020</td>\n",
       "      <td>elsevier science</td>\n",
       "      <td>the hardware software interface</td>\n",
       "      <td>arch</td>\n",
       "    </tr>\n",
       "    <tr>\n",
       "      <th>12</th>\n",
       "      <td>semantic software design</td>\n",
       "      <td>with this practical book architects ctos and c...</td>\n",
       "      <td>eben hewitt</td>\n",
       "      <td>2019</td>\n",
       "      <td>o reilly media</td>\n",
       "      <td>a new theory and practical guide for modern ar...</td>\n",
       "      <td>arch</td>\n",
       "    </tr>\n",
       "  </tbody>\n",
       "</table>\n",
       "</div>"
      ],
      "text/plain": [
       "                                         Book_title   \n",
       "0                    software engineering at google  \\\n",
       "1                   the software architect elevator   \n",
       "7                            programming kubernetes   \n",
       "11  computer organization and design risc v edition   \n",
       "12                         semantic software design   \n",
       "\n",
       "                                          description      author_name(s)   \n",
       "0   today software engineers need to know not only...       titus winters  \\\n",
       "1   as the digital economy changes the rules of th...        gregor hohpe   \n",
       "7   if you re looking to develop native applicatio...  michael hausenblas   \n",
       "11  computer organization and design risc v editio...   david a patterson   \n",
       "12  with this practical book architects ctos and c...         eben hewitt   \n",
       "\n",
       "   publication_year    publisher_name   \n",
       "0              2020    o reilly media  \\\n",
       "1              2020    o reilly media   \n",
       "7              2019    o reilly media   \n",
       "11             2020  elsevier science   \n",
       "12             2019    o reilly media   \n",
       "\n",
       "                                       sub_title_book category_verification  \n",
       "0          lessons learned from programming over time                  arch  \n",
       "1   redefining the architect s role in the digital...                  arch  \n",
       "7                developing cloud native applications                  arch  \n",
       "11                    the hardware software interface                  arch  \n",
       "12  a new theory and practical guide for modern ar...                  arch  "
      ]
     },
     "execution_count": 15,
     "metadata": {},
     "output_type": "execute_result"
    }
   ],
   "source": [
    "new_df.head()"
   ]
  },
  {
   "cell_type": "code",
   "execution_count": 17,
   "id": "1eae61ae",
   "metadata": {},
   "outputs": [
    {
     "data": {
      "text/plain": [
       "category_verification\n",
       "info_mindful    5367\n",
       "business        5325\n",
       "ai              4903\n",
       "programming     2868\n",
       "networking      2289\n",
       "program_lang    1755\n",
       "ui_ux           1078\n",
       "db               850\n",
       "comp_eng         614\n",
       "os               392\n",
       "arch             161\n",
       "Name: count, dtype: int64"
      ]
     },
     "execution_count": 17,
     "metadata": {},
     "output_type": "execute_result"
    }
   ],
   "source": [
    "new_df['category_verification'].value_counts()"
   ]
  },
  {
   "cell_type": "code",
   "execution_count": 20,
   "id": "408c0268",
   "metadata": {},
   "outputs": [],
   "source": [
    "value_to_replace = ['info_mindful','ai','program_lang','ui_ux','db','comp_eng','os','arch']\n",
    "replacement_value = ['self help','artificial intelligene','programming language','ui & ux','database','computer enginnering','operating system','computer architecture']"
   ]
  },
  {
   "cell_type": "code",
   "execution_count": 21,
   "id": "573a0f4a",
   "metadata": {},
   "outputs": [
    {
     "name": "stderr",
     "output_type": "stream",
     "text": [
      "/var/folders/5p/j3w3hx_s0rl_lc0q8wgy8jbr0000gn/T/ipykernel_13666/4125189611.py:1: SettingWithCopyWarning: \n",
      "A value is trying to be set on a copy of a slice from a DataFrame.\n",
      "Try using .loc[row_indexer,col_indexer] = value instead\n",
      "\n",
      "See the caveats in the documentation: https://pandas.pydata.org/pandas-docs/stable/user_guide/indexing.html#returning-a-view-versus-a-copy\n",
      "  new_df['category_verification'] = new_df['category_verification'].replace(to_replace=value_to_replace,value=replacement_value)\n"
     ]
    }
   ],
   "source": [
    "new_df['category_verification'] = new_df['category_verification'].replace(to_replace=value_to_replace,value=replacement_value)"
   ]
  },
  {
   "cell_type": "code",
   "execution_count": 22,
   "id": "983e86da",
   "metadata": {},
   "outputs": [
    {
     "data": {
      "text/plain": [
       "category_verification\n",
       "self help                 5367\n",
       "business                  5325\n",
       "artificial intelligene    4903\n",
       "programming               2868\n",
       "networking                2289\n",
       "programming language      1755\n",
       "ui & ux                   1078\n",
       "database                   850\n",
       "computer enginnering       614\n",
       "operating system           392\n",
       "computer architecture      161\n",
       "Name: count, dtype: int64"
      ]
     },
     "execution_count": 22,
     "metadata": {},
     "output_type": "execute_result"
    }
   ],
   "source": [
    "new_df['category_verification'].value_counts()"
   ]
  },
  {
   "cell_type": "code",
   "execution_count": 25,
   "id": "6b35be4a",
   "metadata": {},
   "outputs": [
    {
     "data": {
      "text/plain": [
       "Book_title               0\n",
       "description              0\n",
       "author_name(s)           0\n",
       "publication_year         0\n",
       "publisher_name           0\n",
       "sub_title_book           0\n",
       "category_verification    0\n",
       "dtype: int64"
      ]
     },
     "execution_count": 25,
     "metadata": {},
     "output_type": "execute_result"
    }
   ],
   "source": [
    "new_df.isna().sum()"
   ]
  },
  {
   "cell_type": "code",
   "execution_count": 27,
   "id": "6ebab5c1",
   "metadata": {},
   "outputs": [],
   "source": [
    "new_df.to_csv('df_for_gpt2.csv', index=False)"
   ]
  },
  {
   "cell_type": "code",
   "execution_count": null,
   "id": "0c8c3a82",
   "metadata": {},
   "outputs": [],
   "source": []
  }
 ],
 "metadata": {
  "kernelspec": {
   "display_name": "Python 3 (ipykernel)",
   "language": "python",
   "name": "python3"
  },
  "language_info": {
   "codemirror_mode": {
    "name": "ipython",
    "version": 3
   },
   "file_extension": ".py",
   "mimetype": "text/x-python",
   "name": "python",
   "nbconvert_exporter": "python",
   "pygments_lexer": "ipython3",
   "version": "3.11.5"
  }
 },
 "nbformat": 4,
 "nbformat_minor": 5
}
