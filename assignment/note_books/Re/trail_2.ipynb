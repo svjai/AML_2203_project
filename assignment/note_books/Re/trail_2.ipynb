{
 "cells": [
  {
   "cell_type": "markdown",
   "id": "03f6e18b",
   "metadata": {},
   "source": [
    "## important tags\n",
    "\n",
    "1. h3 --> headings of the post\n",
    "2. article --> each post \n",
    "3. there is a split method used here {text.split()[-1]}\n",
    "\n",
    "for a live website\n",
    "\n",
    "we need requests --> get()\n",
    "\n",
    "https://www.youtube.com/watch?v=XVv6mJpFOb0"
   ]
  },
  {
   "cell_type": "code",
   "execution_count": 1,
   "id": "5d9b847b",
   "metadata": {},
   "outputs": [],
   "source": [
    "from bs4 import BeautifulSoup"
   ]
  },
  {
   "cell_type": "code",
   "execution_count": 25,
   "id": "c3e84a8c",
   "metadata": {},
   "outputs": [
    {
     "name": "stdout",
     "output_type": "stream",
     "text": [
      "Notifications\n",
      "2 Days to Go - Feb 15th Co-op Job Fair\n",
      "Webinar- Anti-Money Laundering: Beginner's Guide\n",
      "Part- time jobs and supports event\n",
      "Register now -Understanding Ontarioâ€™s Personal Income Tax, Credits and Benefits for International Students\n",
      " Snow Day Tickets Sale | Last chance to purchase\n",
      "Privacy\n",
      "Notification preferences\n",
      "General\n"
     ]
    }
   ],
   "source": [
    "with open('test_main.html','r',errors=\"ignore\") as html_file:\n",
    "    content=html_file.read()\n",
    "    soup=BeautifulSoup(content,'lxml')\n",
    "    tags=soup.find_all('h3') #using tags\n",
    "    for tag in tags:\n",
    "        print(tag.text)"
   ]
  },
  {
   "cell_type": "code",
   "execution_count": 26,
   "id": "692d4362",
   "metadata": {},
   "outputs": [
    {
     "data": {
      "text/plain": [
       "[<h3 class=\"popover-region-header-text\" data-region=\"popover-region-header-text\">Notifications</h3>,\n",
       " <h3 class=\"h6 font-weight-bold mb-0\" data-region-content=\"forum-post-core-subject\" data-reply-subject=\"Re: 2 Days to Go - Feb 15th Co-op Job Fair\">2 Days to Go - Feb 15th Co-op Job Fair</h3>,\n",
       " <h3 class=\"h6 font-weight-bold mb-0\" data-region-content=\"forum-post-core-subject\" data-reply-subject=\"Re: Webinar- Anti-Money Laundering: Beginner's Guide\">Webinar- Anti-Money Laundering: Beginner's Guide</h3>,\n",
       " <h3 class=\"h6 font-weight-bold mb-0\" data-region-content=\"forum-post-core-subject\" data-reply-subject=\"Re: Part- time jobs and supports event\">Part- time jobs and supports event</h3>,\n",
       " <h3 class=\"h6 font-weight-bold mb-0\" data-region-content=\"forum-post-core-subject\" data-reply-subject=\"Re: Register now -Understanding Ontarioâ€™s Personal Income Tax, Credits and Benefits for International Students\">Register now -Understanding Ontarioâ€™s Personal Income Tax, Credits and Benefits for International Students</h3>,\n",
       " <h3 class=\"h6 font-weight-bold mb-0\" data-region-content=\"forum-post-core-subject\" data-reply-subject=\"Re:  Snow Day Tickets Sale | Last chance to purchase\"> Snow Day Tickets Sale | Last chance to purchase</h3>,\n",
       " <h3 class=\"h6 font-weight-bold\">Privacy</h3>,\n",
       " <h3 class=\"mb-2 mt-4 h6 font-weight-bold\">Notification preferences</h3>,\n",
       " <h3 class=\"mb-2 mt-4 h6 font-weight-bold\">General</h3>]"
      ]
     },
     "execution_count": 26,
     "metadata": {},
     "output_type": "execute_result"
    }
   ],
   "source": [
    "tags"
   ]
  },
  {
   "cell_type": "code",
   "execution_count": null,
   "id": "2340fdcf",
   "metadata": {},
   "outputs": [],
   "source": []
  },
  {
   "cell_type": "code",
   "execution_count": 23,
   "id": "5551ce40",
   "metadata": {},
   "outputs": [
    {
     "name": "stdout",
     "output_type": "stream",
     "text": [
      "2 Days to Go - Feb 15th Co-op Job Fair\n",
      "Webinar- Anti-Money Laundering: Beginner's Guide\n",
      "Part- time jobs and supports event\n",
      "Register now -Understanding Ontarioâ€™s Personal Income Tax, Credits and Benefits for International Students\n",
      " Snow Day Tickets Sale | Last chance to purchase\n"
     ]
    }
   ],
   "source": [
    "with open('test_main.html','r',errors=\"ignore\") as html_file:\n",
    "    content=html_file.read()\n",
    "    soup=BeautifulSoup(content,'lxml')\n",
    "    tags=soup.find_all('article',class_='forum-post-container mb-2') #using tags\n",
    "    for tag in tags:\n",
    "        print(tag.div.h3.text)#method to access inside the tags"
   ]
  },
  {
   "cell_type": "code",
   "execution_count": 35,
   "id": "d76cb3ca",
   "metadata": {},
   "outputs": [
    {
     "name": "stdout",
     "output_type": "stream",
     "text": [
      "Tuesday, 13 February 2024, 11:05 AM\n",
      "Monday, 12 February 2024, 2:45 PM\n",
      "Monday, 12 February 2024, 9:23 AM\n",
      "Friday, 9 February 2024, 9:31 AM\n",
      "Thursday, 8 February 2024, 11:32 AM\n"
     ]
    }
   ],
   "source": [
    "with open('test_main.html','r',errors=\"ignore\") as html_file:\n",
    "    content=html_file.read()\n",
    "    soup=BeautifulSoup(content,'lxml')\n",
    "    tags=soup.find_all('article',class_='forum-post-container mb-2') #using tags\n",
    "    for tag in tags:\n",
    "        print(tag.div.div.time.text)#method to access inside the tags"
   ]
  },
  {
   "cell_type": "code",
   "execution_count": 37,
   "id": "57b3e583",
   "metadata": {},
   "outputs": [
    {
     "name": "stdout",
     "output_type": "stream",
     "text": [
      "2 Days to Go - Feb 15th Co-op Job Fair Coop and Career Services @Lambton College in Toronto Tuesday, 13 February 2024, 11:05 AM\n",
      "================================================================================\n",
      "Webinar- Anti-Money Laundering: Beginner's Guide Tutoring Centre @Lambton College In Toronto Monday, 12 February 2024, 2:45 PM\n",
      "================================================================================\n",
      "Part- time jobs and supports event Student Services @Lambton College In Toronto Monday, 12 February 2024, 9:23 AM\n",
      "================================================================================\n",
      "Register now -Understanding Ontarioâ€™s Personal Income Tax, Credits and Benefits for International Students Ash Rai Friday, 9 February 2024, 9:31 AM\n",
      "================================================================================\n",
      " Snow Day Tickets Sale | Last chance to purchase Michael Lu Thursday, 8 February 2024, 11:32 AM\n",
      "================================================================================\n"
     ]
    }
   ],
   "source": [
    "with open('test_main.html','r',errors=\"ignore\") as html_file:\n",
    "    content=html_file.read()\n",
    "    soup=BeautifulSoup(content,'lxml')\n",
    "    tags=soup.find_all('article',class_='forum-post-container mb-2') #using tags\n",
    "    for tag in tags:\n",
    "        site_topics=tag.div.h3.text\n",
    "        posted_by=tag.div.div.a.text\n",
    "        time=tag.div.div.time.text\n",
    "        \n",
    "        print(site_topics,posted_by,time)#method to access inside the tags\n",
    "        print(\"=\"*80)"
   ]
  },
  {
   "cell_type": "code",
   "execution_count": null,
   "id": "ca03e52a",
   "metadata": {},
   "outputs": [],
   "source": []
  }
 ],
 "metadata": {
  "kernelspec": {
   "display_name": "Python 3",
   "language": "python",
   "name": "python3"
  },
  "language_info": {
   "codemirror_mode": {
    "name": "ipython",
    "version": 3
   },
   "file_extension": ".py",
   "mimetype": "text/x-python",
   "name": "python",
   "nbconvert_exporter": "python",
   "pygments_lexer": "ipython3",
   "version": "3.7.16"
  }
 },
 "nbformat": 4,
 "nbformat_minor": 5
}
