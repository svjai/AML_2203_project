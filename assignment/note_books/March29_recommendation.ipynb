{
 "cells": [
  {
   "cell_type": "code",
   "execution_count": 1,
   "metadata": {
    "id": "2L-ciCX0rUdq"
   },
   "outputs": [],
   "source": [
    "import pandas as pd\n",
    "from sklearn.feature_extraction.text import TfidfVectorizer\n",
    "from sklearn.metrics.pairwise import linear_kernel"
   ]
  },
  {
   "cell_type": "code",
   "execution_count": 5,
   "metadata": {
    "id": "BzfxV8TZr1nI"
   },
   "outputs": [],
   "source": [
    "df = pd.read_csv('scrapped_data_version_1_comp_business_mind.csv')"
   ]
  },
  {
   "cell_type": "code",
   "execution_count": 6,
   "metadata": {
    "colab": {
     "base_uri": "https://localhost:8080/",
     "height": 487
    },
    "id": "aZSv1sd3weqE",
    "outputId": "d7463cb2-fad3-4c39-f6fc-68fb51bd3193"
   },
   "outputs": [
    {
     "data": {
      "text/html": [
       "<div>\n",
       "<style scoped>\n",
       "    .dataframe tbody tr th:only-of-type {\n",
       "        vertical-align: middle;\n",
       "    }\n",
       "\n",
       "    .dataframe tbody tr th {\n",
       "        vertical-align: top;\n",
       "    }\n",
       "\n",
       "    .dataframe thead th {\n",
       "        text-align: right;\n",
       "    }\n",
       "</style>\n",
       "<table border=\"1\" class=\"dataframe\">\n",
       "  <thead>\n",
       "    <tr style=\"text-align: right;\">\n",
       "      <th></th>\n",
       "      <th>Book_title</th>\n",
       "      <th>book_id</th>\n",
       "      <th>book_price</th>\n",
       "      <th>author_name(s)</th>\n",
       "      <th>publisher_name</th>\n",
       "      <th>publication_year</th>\n",
       "      <th>sub_title_book</th>\n",
       "      <th>book_edition</th>\n",
       "      <th>description</th>\n",
       "      <th>book_availablity</th>\n",
       "      <th>date_of_sale</th>\n",
       "      <th>year_month</th>\n",
       "      <th>author_count</th>\n",
       "      <th>common_width</th>\n",
       "      <th>common_heighy</th>\n",
       "      <th>category_verification</th>\n",
       "    </tr>\n",
       "  </thead>\n",
       "  <tbody>\n",
       "    <tr>\n",
       "      <th>0</th>\n",
       "      <td>Software Engineering at Google</td>\n",
       "      <td>209970024</td>\n",
       "      <td>71.99</td>\n",
       "      <td>Titus Winters</td>\n",
       "      <td>O'Reilly Media</td>\n",
       "      <td>2020</td>\n",
       "      <td>Lessons Learned from Programming Over Time</td>\n",
       "      <td>NaN</td>\n",
       "      <td>Today, software engineers need to know not onl...</td>\n",
       "      <td>True</td>\n",
       "      <td>2020-02-28T00:00:00</td>\n",
       "      <td>Feb 2020</td>\n",
       "      <td>3</td>\n",
       "      <td>97</td>\n",
       "      <td>150</td>\n",
       "      <td>arch</td>\n",
       "    </tr>\n",
       "    <tr>\n",
       "      <th>1</th>\n",
       "      <td>The Software Architect Elevator</td>\n",
       "      <td>209997033</td>\n",
       "      <td>71.99</td>\n",
       "      <td>Gregor Hohpe</td>\n",
       "      <td>O'Reilly Media</td>\n",
       "      <td>2020</td>\n",
       "      <td>Redefining the Architect's Role in the Digital...</td>\n",
       "      <td>NaN</td>\n",
       "      <td>As the digital economy changes the rules of th...</td>\n",
       "      <td>True</td>\n",
       "      <td>2020-04-08T00:00:00</td>\n",
       "      <td>Apr 2020</td>\n",
       "      <td>1</td>\n",
       "      <td>97</td>\n",
       "      <td>150</td>\n",
       "      <td>arch</td>\n",
       "    </tr>\n",
       "    <tr>\n",
       "      <th>2</th>\n",
       "      <td>Software Architecture Metrics</td>\n",
       "      <td>210567692</td>\n",
       "      <td>71.99</td>\n",
       "      <td>Christian Ciceri</td>\n",
       "      <td>O'Reilly Media</td>\n",
       "      <td>2022</td>\n",
       "      <td>NaN</td>\n",
       "      <td>NaN</td>\n",
       "      <td>Software architecture metrics are key to the m...</td>\n",
       "      <td>True</td>\n",
       "      <td>2022-05-18T00:00:00</td>\n",
       "      <td>May 2022</td>\n",
       "      <td>10</td>\n",
       "      <td>97</td>\n",
       "      <td>150</td>\n",
       "      <td>arch</td>\n",
       "    </tr>\n",
       "    <tr>\n",
       "      <th>3</th>\n",
       "      <td>Designing Hexagonal Architecture with Java</td>\n",
       "      <td>211106723</td>\n",
       "      <td>46.99</td>\n",
       "      <td>Davi Vieira</td>\n",
       "      <td>Packt Publishing</td>\n",
       "      <td>2023</td>\n",
       "      <td>Build maintainable and long-lasting applicatio...</td>\n",
       "      <td>NaN</td>\n",
       "      <td>NaN</td>\n",
       "      <td>True</td>\n",
       "      <td>2023-09-29T00:00:00</td>\n",
       "      <td>Sep 2023</td>\n",
       "      <td>1</td>\n",
       "      <td>97</td>\n",
       "      <td>150</td>\n",
       "      <td>arch</td>\n",
       "    </tr>\n",
       "    <tr>\n",
       "      <th>4</th>\n",
       "      <td>OpenStack for Architects</td>\n",
       "      <td>96237030</td>\n",
       "      <td>44.99</td>\n",
       "      <td>Michael Solberg</td>\n",
       "      <td>Packt Publishing</td>\n",
       "      <td>2018</td>\n",
       "      <td>Design production-ready private cloud infrastr...</td>\n",
       "      <td>NaN</td>\n",
       "      <td>NaN</td>\n",
       "      <td>True</td>\n",
       "      <td>2018-05-31T00:00:00</td>\n",
       "      <td>May 2018</td>\n",
       "      <td>2</td>\n",
       "      <td>97</td>\n",
       "      <td>150</td>\n",
       "      <td>arch</td>\n",
       "    </tr>\n",
       "  </tbody>\n",
       "</table>\n",
       "</div>"
      ],
      "text/plain": [
       "                                   Book_title    book_id  book_price  \\\n",
       "0              Software Engineering at Google  209970024       71.99   \n",
       "1             The Software Architect Elevator  209997033       71.99   \n",
       "2               Software Architecture Metrics  210567692       71.99   \n",
       "3  Designing Hexagonal Architecture with Java  211106723       46.99   \n",
       "4                    OpenStack for Architects   96237030       44.99   \n",
       "\n",
       "     author_name(s)    publisher_name  publication_year  \\\n",
       "0     Titus Winters    O'Reilly Media              2020   \n",
       "1      Gregor Hohpe    O'Reilly Media              2020   \n",
       "2  Christian Ciceri    O'Reilly Media              2022   \n",
       "3       Davi Vieira  Packt Publishing              2023   \n",
       "4   Michael Solberg  Packt Publishing              2018   \n",
       "\n",
       "                                      sub_title_book book_edition  \\\n",
       "0         Lessons Learned from Programming Over Time          NaN   \n",
       "1  Redefining the Architect's Role in the Digital...          NaN   \n",
       "2                                                NaN          NaN   \n",
       "3  Build maintainable and long-lasting applicatio...          NaN   \n",
       "4  Design production-ready private cloud infrastr...          NaN   \n",
       "\n",
       "                                         description  book_availablity  \\\n",
       "0  Today, software engineers need to know not onl...              True   \n",
       "1  As the digital economy changes the rules of th...              True   \n",
       "2  Software architecture metrics are key to the m...              True   \n",
       "3                                                NaN              True   \n",
       "4                                                NaN              True   \n",
       "\n",
       "          date_of_sale year_month  author_count  common_width  common_heighy  \\\n",
       "0  2020-02-28T00:00:00   Feb 2020             3            97            150   \n",
       "1  2020-04-08T00:00:00   Apr 2020             1            97            150   \n",
       "2  2022-05-18T00:00:00   May 2022            10            97            150   \n",
       "3  2023-09-29T00:00:00   Sep 2023             1            97            150   \n",
       "4  2018-05-31T00:00:00   May 2018             2            97            150   \n",
       "\n",
       "  category_verification  \n",
       "0                  arch  \n",
       "1                  arch  \n",
       "2                  arch  \n",
       "3                  arch  \n",
       "4                  arch  "
      ]
     },
     "execution_count": 6,
     "metadata": {},
     "output_type": "execute_result"
    }
   ],
   "source": [
    "df.head()"
   ]
  },
  {
   "cell_type": "code",
   "execution_count": 7,
   "metadata": {
    "colab": {
     "base_uri": "https://localhost:8080/"
    },
    "id": "sTPVlzIRwf-M",
    "outputId": "0ed6bbaf-7b5f-46b8-9723-86f8464f4153"
   },
   "outputs": [
    {
     "data": {
      "text/plain": [
       "Index(['Book_title', 'book_id', 'book_price', 'author_name(s)',\n",
       "       'publisher_name', 'publication_year', 'sub_title_book', 'book_edition',\n",
       "       'description', 'book_availablity', 'date_of_sale', 'year_month',\n",
       "       'author_count', 'common_width', 'common_heighy',\n",
       "       'category_verification'],\n",
       "      dtype='object')"
      ]
     },
     "execution_count": 7,
     "metadata": {},
     "output_type": "execute_result"
    }
   ],
   "source": [
    "df.columns"
   ]
  },
  {
   "cell_type": "markdown",
   "metadata": {
    "id": "vEdu9p3NzXEE"
   },
   "source": [
    "Data Preprocessing"
   ]
  },
  {
   "cell_type": "code",
   "execution_count": 8,
   "metadata": {
    "id": "LwJkkw8qw6Y1"
   },
   "outputs": [],
   "source": [
    "# combining all relevant features into a single column for each book.\n",
    "df['combined_features'] = df['Book_title'].fillna('')+ ' ' + df['description'].fillna('') + ' ' + \\\n",
    "                          df['author_name(s)'].fillna('') + ' ' + \\\n",
    "                          df['publication_year'].apply(str) + ' ' + \\\n",
    "                          df['category_verification'].fillna('')"
   ]
  },
  {
   "cell_type": "code",
   "execution_count": 9,
   "metadata": {
    "id": "JtqzR4FXyhJD"
   },
   "outputs": [],
   "source": [
    "# Preprocessing the combined_features: removing NaN values and duplicates books\n",
    "df.dropna(subset=['combined_features'], inplace=True)\n",
    "df.drop_duplicates(subset=['book_id'], inplace= True)"
   ]
  },
  {
   "cell_type": "markdown",
   "metadata": {
    "id": "iX66pADUza3z"
   },
   "source": [
    "Text vectorization"
   ]
  },
  {
   "cell_type": "code",
   "execution_count": 10,
   "metadata": {
    "id": "Ln7MciqWzMYk"
   },
   "outputs": [],
   "source": [
    "tfidf_vectorizer = TfidfVectorizer(stop_words='english')\n",
    "# transforming the combined data\n",
    "tfidf_matrix = tfidf_vectorizer.fit_transform(df['combined_features'])"
   ]
  },
  {
   "cell_type": "markdown",
   "metadata": {
    "id": "r9HJ268Zz85o"
   },
   "source": [
    "Calculating cosine similarity"
   ]
  },
  {
   "cell_type": "code",
   "execution_count": 11,
   "metadata": {
    "id": "lw9CfD0Cz3zN"
   },
   "outputs": [],
   "source": [
    "cosine_sim = linear_kernel(tfidf_matrix, tfidf_matrix)"
   ]
  },
  {
   "cell_type": "markdown",
   "metadata": {
    "id": "snQYPb7i0Ijs"
   },
   "source": [
    "Recommendations"
   ]
  },
  {
   "cell_type": "code",
   "execution_count": 16,
   "metadata": {},
   "outputs": [],
   "source": [
    "def get_recommendations(title, cosine_sim = cosine_sim):\n",
    "    book_index = df.index[df['Book_title'] == title].tolist()[0] # getting the book title.\n",
    "    similarity_score = list(enumerate(cosine_sim[book_index])) # getting pairwise similarity of all the matched books\n",
    "    similarity_score = sorted(similarity_score, key = lambda x:x[1], reverse=True) # sorting the books\n",
    "    similarity_score = similarity_score[1:11] # getting the score of the 10 most similar books.\n",
    "    \n",
    "    book_indices = [i[0] for i in similarity_score]\n",
    "    return df['Book_title'].iloc[book_indices]     # Returning the top 10 most similar books\n",
    "\n",
    "    "
   ]
  },
  {
   "cell_type": "code",
   "execution_count": 14,
   "metadata": {},
   "outputs": [
    {
     "data": {
      "text/html": [
       "<div>\n",
       "<style scoped>\n",
       "    .dataframe tbody tr th:only-of-type {\n",
       "        vertical-align: middle;\n",
       "    }\n",
       "\n",
       "    .dataframe tbody tr th {\n",
       "        vertical-align: top;\n",
       "    }\n",
       "\n",
       "    .dataframe thead th {\n",
       "        text-align: right;\n",
       "    }\n",
       "</style>\n",
       "<table border=\"1\" class=\"dataframe\">\n",
       "  <thead>\n",
       "    <tr style=\"text-align: right;\">\n",
       "      <th></th>\n",
       "      <th>Book_title</th>\n",
       "      <th>book_id</th>\n",
       "      <th>book_price</th>\n",
       "      <th>author_name(s)</th>\n",
       "      <th>publisher_name</th>\n",
       "      <th>publication_year</th>\n",
       "      <th>sub_title_book</th>\n",
       "      <th>book_edition</th>\n",
       "      <th>description</th>\n",
       "      <th>book_availablity</th>\n",
       "      <th>date_of_sale</th>\n",
       "      <th>year_month</th>\n",
       "      <th>author_count</th>\n",
       "      <th>common_width</th>\n",
       "      <th>common_heighy</th>\n",
       "      <th>category_verification</th>\n",
       "      <th>combined_features</th>\n",
       "    </tr>\n",
       "  </thead>\n",
       "  <tbody>\n",
       "    <tr>\n",
       "      <th>0</th>\n",
       "      <td>Software Engineering at Google</td>\n",
       "      <td>209970024</td>\n",
       "      <td>71.99</td>\n",
       "      <td>Titus Winters</td>\n",
       "      <td>O'Reilly Media</td>\n",
       "      <td>2020</td>\n",
       "      <td>Lessons Learned from Programming Over Time</td>\n",
       "      <td>NaN</td>\n",
       "      <td>Today, software engineers need to know not onl...</td>\n",
       "      <td>True</td>\n",
       "      <td>2020-02-28T00:00:00</td>\n",
       "      <td>Feb 2020</td>\n",
       "      <td>3</td>\n",
       "      <td>97</td>\n",
       "      <td>150</td>\n",
       "      <td>arch</td>\n",
       "      <td>Software Engineering at Google Today, software...</td>\n",
       "    </tr>\n",
       "    <tr>\n",
       "      <th>1</th>\n",
       "      <td>The Software Architect Elevator</td>\n",
       "      <td>209997033</td>\n",
       "      <td>71.99</td>\n",
       "      <td>Gregor Hohpe</td>\n",
       "      <td>O'Reilly Media</td>\n",
       "      <td>2020</td>\n",
       "      <td>Redefining the Architect's Role in the Digital...</td>\n",
       "      <td>NaN</td>\n",
       "      <td>As the digital economy changes the rules of th...</td>\n",
       "      <td>True</td>\n",
       "      <td>2020-04-08T00:00:00</td>\n",
       "      <td>Apr 2020</td>\n",
       "      <td>1</td>\n",
       "      <td>97</td>\n",
       "      <td>150</td>\n",
       "      <td>arch</td>\n",
       "      <td>The Software Architect Elevator As the digital...</td>\n",
       "    </tr>\n",
       "    <tr>\n",
       "      <th>2</th>\n",
       "      <td>Software Architecture Metrics</td>\n",
       "      <td>210567692</td>\n",
       "      <td>71.99</td>\n",
       "      <td>Christian Ciceri</td>\n",
       "      <td>O'Reilly Media</td>\n",
       "      <td>2022</td>\n",
       "      <td>NaN</td>\n",
       "      <td>NaN</td>\n",
       "      <td>Software architecture metrics are key to the m...</td>\n",
       "      <td>True</td>\n",
       "      <td>2022-05-18T00:00:00</td>\n",
       "      <td>May 2022</td>\n",
       "      <td>10</td>\n",
       "      <td>97</td>\n",
       "      <td>150</td>\n",
       "      <td>arch</td>\n",
       "      <td>Software Architecture Metrics Software archite...</td>\n",
       "    </tr>\n",
       "    <tr>\n",
       "      <th>3</th>\n",
       "      <td>Designing Hexagonal Architecture with Java</td>\n",
       "      <td>211106723</td>\n",
       "      <td>46.99</td>\n",
       "      <td>Davi Vieira</td>\n",
       "      <td>Packt Publishing</td>\n",
       "      <td>2023</td>\n",
       "      <td>Build maintainable and long-lasting applicatio...</td>\n",
       "      <td>NaN</td>\n",
       "      <td>NaN</td>\n",
       "      <td>True</td>\n",
       "      <td>2023-09-29T00:00:00</td>\n",
       "      <td>Sep 2023</td>\n",
       "      <td>1</td>\n",
       "      <td>97</td>\n",
       "      <td>150</td>\n",
       "      <td>arch</td>\n",
       "      <td>Designing Hexagonal Architecture with Java  Da...</td>\n",
       "    </tr>\n",
       "    <tr>\n",
       "      <th>4</th>\n",
       "      <td>OpenStack for Architects</td>\n",
       "      <td>96237030</td>\n",
       "      <td>44.99</td>\n",
       "      <td>Michael Solberg</td>\n",
       "      <td>Packt Publishing</td>\n",
       "      <td>2018</td>\n",
       "      <td>Design production-ready private cloud infrastr...</td>\n",
       "      <td>NaN</td>\n",
       "      <td>NaN</td>\n",
       "      <td>True</td>\n",
       "      <td>2018-05-31T00:00:00</td>\n",
       "      <td>May 2018</td>\n",
       "      <td>2</td>\n",
       "      <td>97</td>\n",
       "      <td>150</td>\n",
       "      <td>arch</td>\n",
       "      <td>OpenStack for Architects  Michael Solberg 2018...</td>\n",
       "    </tr>\n",
       "  </tbody>\n",
       "</table>\n",
       "</div>"
      ],
      "text/plain": [
       "                                   Book_title    book_id  book_price  \\\n",
       "0              Software Engineering at Google  209970024       71.99   \n",
       "1             The Software Architect Elevator  209997033       71.99   \n",
       "2               Software Architecture Metrics  210567692       71.99   \n",
       "3  Designing Hexagonal Architecture with Java  211106723       46.99   \n",
       "4                    OpenStack for Architects   96237030       44.99   \n",
       "\n",
       "     author_name(s)    publisher_name  publication_year  \\\n",
       "0     Titus Winters    O'Reilly Media              2020   \n",
       "1      Gregor Hohpe    O'Reilly Media              2020   \n",
       "2  Christian Ciceri    O'Reilly Media              2022   \n",
       "3       Davi Vieira  Packt Publishing              2023   \n",
       "4   Michael Solberg  Packt Publishing              2018   \n",
       "\n",
       "                                      sub_title_book book_edition  \\\n",
       "0         Lessons Learned from Programming Over Time          NaN   \n",
       "1  Redefining the Architect's Role in the Digital...          NaN   \n",
       "2                                                NaN          NaN   \n",
       "3  Build maintainable and long-lasting applicatio...          NaN   \n",
       "4  Design production-ready private cloud infrastr...          NaN   \n",
       "\n",
       "                                         description  book_availablity  \\\n",
       "0  Today, software engineers need to know not onl...              True   \n",
       "1  As the digital economy changes the rules of th...              True   \n",
       "2  Software architecture metrics are key to the m...              True   \n",
       "3                                                NaN              True   \n",
       "4                                                NaN              True   \n",
       "\n",
       "          date_of_sale year_month  author_count  common_width  common_heighy  \\\n",
       "0  2020-02-28T00:00:00   Feb 2020             3            97            150   \n",
       "1  2020-04-08T00:00:00   Apr 2020             1            97            150   \n",
       "2  2022-05-18T00:00:00   May 2022            10            97            150   \n",
       "3  2023-09-29T00:00:00   Sep 2023             1            97            150   \n",
       "4  2018-05-31T00:00:00   May 2018             2            97            150   \n",
       "\n",
       "  category_verification                                  combined_features  \n",
       "0                  arch  Software Engineering at Google Today, software...  \n",
       "1                  arch  The Software Architect Elevator As the digital...  \n",
       "2                  arch  Software Architecture Metrics Software archite...  \n",
       "3                  arch  Designing Hexagonal Architecture with Java  Da...  \n",
       "4                  arch  OpenStack for Architects  Michael Solberg 2018...  "
      ]
     },
     "execution_count": 14,
     "metadata": {},
     "output_type": "execute_result"
    }
   ],
   "source": [
    "df.head()"
   ]
  },
  {
   "cell_type": "code",
   "execution_count": 17,
   "metadata": {},
   "outputs": [
    {
     "name": "stdout",
     "output_type": "stream",
     "text": [
      "423      97 Things Every Software Architect Should Know\n",
      "2                         Software Architecture Metrics\n",
      "244                       Hands-On Linux for Architects\n",
      "15245                The Technical–Business Equilibrium\n",
      "4                              OpenStack for Architects\n",
      "241                                Azure for Architects\n",
      "2030                         Architects of Intelligence\n",
      "19437                              Software Engineering\n",
      "111                         Hybrid Cloud for Architects\n",
      "18703                              Azure for Architects\n",
      "Name: Book_title, dtype: object\n"
     ]
    }
   ],
   "source": [
    "print(get_recommendations('The Software Architect Elevator'))"
   ]
  }
 ],
 "metadata": {
  "colab": {
   "provenance": []
  },
  "kernelspec": {
   "display_name": "Python 3 (ipykernel)",
   "language": "python",
   "name": "python3"
  },
  "language_info": {
   "codemirror_mode": {
    "name": "ipython",
    "version": 3
   },
   "file_extension": ".py",
   "mimetype": "text/x-python",
   "name": "python",
   "nbconvert_exporter": "python",
   "pygments_lexer": "ipython3",
   "version": "3.11.5"
  }
 },
 "nbformat": 4,
 "nbformat_minor": 1
}
